{
 "cells": [
  {
   "cell_type": "code",
   "execution_count": 25,
   "id": "73b989b3-8961-4322-9123-2c67a4d243f4",
   "metadata": {},
   "outputs": [
    {
     "name": "stdin",
     "output_type": "stream",
     "text": [
      "Enter a positive integer:  5\n"
     ]
    },
    {
     "name": "stdout",
     "output_type": "stream",
     "text": [
      "120\n"
     ]
    }
   ],
   "source": [
    "#Method 1\n",
    "def factorial(num):\n",
    "    if num<0:\n",
    "        return \"Enter a positive integer.\"\n",
    "    if num == 1:\n",
    "        return fact\n",
    "    else:\n",
    "        return num*factorial(num-1)\n",
    "  \n",
    "try:\n",
    "    user_input = int(input(\"Enter a positive integer: \"))\n",
    "    result = factorial(user_input)\n",
    "    print(result)\n",
    "except Exception as e:\n",
    "    print(e)"
   ]
  },
  {
   "cell_type": "code",
   "execution_count": 27,
   "id": "7d7ec46f-da1a-4927-9f46-95c1900fde62",
   "metadata": {},
   "outputs": [
    {
     "name": "stdin",
     "output_type": "stream",
     "text": [
      "Enter a number:  5\n"
     ]
    },
    {
     "name": "stdout",
     "output_type": "stream",
     "text": [
      "120\n"
     ]
    }
   ],
   "source": [
    "#Method 2\n",
    "\n",
    "user_input = int(input(\"Enter a number: \"))\n",
    "\n",
    "def factorial(num):\n",
    "    result =1\n",
    "    for i in range(1,num+1):\n",
    "        result = i* result\n",
    "    return result\n",
    "\n",
    "res = factorial(user_input)\n",
    "print(res)"
   ]
  }
 ],
 "metadata": {
  "kernelspec": {
   "display_name": "Python 3 (ipykernel)",
   "language": "python",
   "name": "python3"
  },
  "language_info": {
   "codemirror_mode": {
    "name": "ipython",
    "version": 3
   },
   "file_extension": ".py",
   "mimetype": "text/x-python",
   "name": "python",
   "nbconvert_exporter": "python",
   "pygments_lexer": "ipython3",
   "version": "3.12.4"
  }
 },
 "nbformat": 4,
 "nbformat_minor": 5
}
